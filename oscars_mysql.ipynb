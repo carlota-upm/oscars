{
 "cells": [
  {
   "cell_type": "code",
   "execution_count": 10,
   "id": "7b787fed-8755-4792-8b78-b237444d0993",
   "metadata": {
    "tags": []
   },
   "outputs": [
    {
     "name": "stdout",
     "output_type": "stream",
     "text": [
      "Requirement already satisfied: mysql-connector-python in /opt/conda/lib/python3.10/site-packages (8.0.32)\n",
      "Requirement already satisfied: protobuf<=3.20.3,>=3.11.0 in /opt/conda/lib/python3.10/site-packages (from mysql-connector-python) (3.20.3)\n"
     ]
    }
   ],
   "source": [
    "# Instalar sql en python\n",
    "!pip install mysql-connector-python"
   ]
  },
  {
   "cell_type": "code",
   "execution_count": 14,
   "id": "328f914d-76b7-4177-8b1d-341efd04cffc",
   "metadata": {
    "tags": []
   },
   "outputs": [],
   "source": [
    "# Importar librerías\n",
    "import mysql.connector \n",
    "import datetime"
   ]
  },
  {
   "cell_type": "code",
   "execution_count": 15,
   "id": "a43627b5-fb86-4b89-959e-6e8dcd6aea22",
   "metadata": {
    "tags": []
   },
   "outputs": [],
   "source": [
    "# Conexión a la base de datos\n",
    "\n",
    "cnx = mysql.connector.connect(user='root', password='example',\n",
    "                              host='db',\n",
    "                              database='oscars')"
   ]
  },
  {
   "cell_type": "code",
   "execution_count": 19,
   "id": "725d814f-5ce2-40d6-88ef-5d5b1e496140",
   "metadata": {
    "tags": []
   },
   "outputs": [
    {
     "name": "stdout",
     "output_type": "stream",
     "text": [
      "('James Cameron', 'Avatar')\n",
      "('Gore Verbinski', 'Pirates of the Caribbean')\n",
      "('Sam Mendes', 'Spectre')\n",
      "('Christopher Nolan', 'The Dark Knight Rises')\n"
     ]
    },
    {
     "data": {
      "text/plain": [
       "True"
      ]
     },
     "execution_count": 19,
     "metadata": {},
     "output_type": "execute_result"
    }
   ],
   "source": [
    "cursor = cnx.cursor()\n",
    "\n",
    "query = ('''SELECT name, title \n",
    "         FROM directors AS d\n",
    "         INNER JOIN movies AS m\n",
    "         ON d.id=m.director_id''')\n",
    "\n",
    "cursor.execute(query)\n",
    "\n",
    "for (available) in cursor:\n",
    "    print(available)\n",
    "\n",
    "cursor.close()"
   ]
  },
  {
   "cell_type": "code",
   "execution_count": 20,
   "id": "eaae0925-a528-4fe1-a725-ee201cc87259",
   "metadata": {
    "tags": []
   },
   "outputs": [
    {
     "data": {
      "text/plain": [
       "True"
      ]
     },
     "execution_count": 20,
     "metadata": {},
     "output_type": "execute_result"
    }
   ],
   "source": [
    "cursor = cnx.cursor()\n",
    "\n",
    "query = (\"INSERT INTO directors VALUES (5,'Greta Gerwig')\")\n",
    "cursor.execute(query)\n",
    "         \n",
    "cnx.commit()\n",
    "cursor.close()"
   ]
  },
  {
   "cell_type": "code",
   "execution_count": 21,
   "id": "0b6236c6-5442-4db2-abee-04b6cf6ca72f",
   "metadata": {
    "tags": []
   },
   "outputs": [
    {
     "name": "stdout",
     "output_type": "stream",
     "text": [
      "(1, 'James Cameron')\n",
      "(2, 'Gore Verbinski')\n",
      "(3, 'Sam Mendes')\n",
      "(4, 'Christopher Nolan')\n",
      "(5, 'Greta Gerwig')\n",
      "(5, 'Greta Gerwig')\n"
     ]
    },
    {
     "data": {
      "text/plain": [
       "True"
      ]
     },
     "execution_count": 21,
     "metadata": {},
     "output_type": "execute_result"
    }
   ],
   "source": [
    "cursor = cnx.cursor()\n",
    "\n",
    "query = ('''SELECT *\n",
    "         FROM directors ''')\n",
    "\n",
    "cursor.execute(query)\n",
    "\n",
    "for (available) in cursor:\n",
    "    print(available)\n",
    "\n",
    "cursor.close()"
   ]
  },
  {
   "cell_type": "code",
   "execution_count": 22,
   "id": "eccc35e3-698e-445a-8013-4ac08b292e5f",
   "metadata": {
    "tags": []
   },
   "outputs": [
    {
     "data": {
      "text/plain": [
       "True"
      ]
     },
     "execution_count": 22,
     "metadata": {},
     "output_type": "execute_result"
    }
   ],
   "source": [
    "cursor = cnx.cursor()\n",
    "\n",
    "query = (\"INSERT INTO movies VALUES (5,'Barbie', 2023-07-13, 5)\")\n",
    "cursor.execute(query)\n",
    "         \n",
    "cnx.commit()\n",
    "cursor.close()"
   ]
  },
  {
   "cell_type": "code",
   "execution_count": 23,
   "id": "9f67d0be-6b17-4eea-8e59-146b73673d62",
   "metadata": {
    "tags": []
   },
   "outputs": [
    {
     "name": "stdout",
     "output_type": "stream",
     "text": [
      "(1, 'Avatar', '2009-12-10', 1)\n",
      "(2, 'Pirates of the Caribbean', '2007-05-19', 2)\n",
      "(3, 'Spectre', '2015-10-26', 3)\n",
      "(4, 'The Dark Knight Rises', '2012-07-16', 4)\n",
      "(5, 'Barbie', '2003', 5)\n"
     ]
    },
    {
     "data": {
      "text/plain": [
       "True"
      ]
     },
     "execution_count": 23,
     "metadata": {},
     "output_type": "execute_result"
    }
   ],
   "source": [
    "cursor = cnx.cursor()\n",
    "\n",
    "query = ('''SELECT *\n",
    "         FROM movies ''')\n",
    "\n",
    "cursor.execute(query)\n",
    "\n",
    "for (available) in cursor:\n",
    "    print(available)\n",
    "\n",
    "cursor.close()"
   ]
  },
  {
   "cell_type": "code",
   "execution_count": null,
   "id": "a031aef7-bf26-4134-af38-45c01d0a0b4b",
   "metadata": {},
   "outputs": [],
   "source": []
  }
 ],
 "metadata": {
  "kernelspec": {
   "display_name": "Python 3 (ipykernel)",
   "language": "python",
   "name": "python3"
  },
  "language_info": {
   "codemirror_mode": {
    "name": "ipython",
    "version": 3
   },
   "file_extension": ".py",
   "mimetype": "text/x-python",
   "name": "python",
   "nbconvert_exporter": "python",
   "pygments_lexer": "ipython3",
   "version": "3.10.9"
  }
 },
 "nbformat": 4,
 "nbformat_minor": 5
}
